{
  "cells": [
    {
      "cell_type": "markdown",
      "metadata": {
        "id": "view-in-github",
        "colab_type": "text"
      },
      "source": [
        "<a href=\"https://colab.research.google.com/github/KojoBarbie/CNN_practice_1/blob/main/CNN_practice_model.ipynb\" target=\"_parent\"><img src=\"https://colab.research.google.com/assets/colab-badge.svg\" alt=\"Open In Colab\"/></a>"
      ]
    },
    {
      "cell_type": "markdown",
      "metadata": {
        "id": "-2TkYyEBlMAQ"
      },
      "source": [
        "# CNNを用いて画像分類\n",
        "pokeapiを使用して集めたポケモンの写真をもとに、そのポケモンが伝説のポケモンであるかどうかを判定する画像分類を作る。\n",
        "\n",
        "## import\n",
        "必要なモジュールなどのインポート"
      ]
    },
    {
      "cell_type": "code",
      "execution_count": null,
      "metadata": {
        "colab": {
          "base_uri": "https://localhost:8080/"
        },
        "id": "uiWwgOHdlPIk",
        "outputId": "d8d88693-04b8-4890-9dbc-5f317a1f88ab"
      },
      "outputs": [
        {
          "output_type": "stream",
          "name": "stdout",
          "text": [
            "Mounted at /content/drive\n"
          ]
        }
      ],
      "source": [
        "# Googleドライブをマウント\n",
        "from google.colab import drive\n",
        "drive.mount('/content/drive')\n",
        "\n",
        "# 定番\n",
        "import os\n",
        "import time\n",
        "import pandas as pd\n",
        "import numpy as np\n",
        "import matplotlib.pyplot as plt\n",
        "\n",
        "# CNNの時に使う\n",
        "import torch\n",
        "from torch.autograd import Variable #自動微分用\n",
        "import torch.nn as nn #ネットワーク構築用\n",
        "import torch.optim as optim #最適化関数\n",
        "import torch.nn.functional as F #ネットワーク用の様々な関数\n",
        "import torch.utils.data as data_utils#データセット読み込み関連\n",
        "import torchvision #画像関連\n",
        "from torchvision import datasets, models, transforms #画像用データセット諸々\n",
        "from torchvision.transforms import ToTensor\n",
        "from sklearn.model_selection import train_test_split\n",
        "from PIL import Image"
      ]
    },
    {
      "cell_type": "markdown",
      "metadata": {
        "id": "FKSTqrp9z4Le"
      },
      "source": [
        "## モデルを作るぞ\n",
        "CNNでモデルを作って画像分類を行う。"
      ]
    },
    {
      "cell_type": "code",
      "execution_count": null,
      "metadata": {
        "id": "gtPSz3VL8dYj"
      },
      "outputs": [],
      "source": [
        "class Net(nn.Module):\n",
        "    # NNの各構成要素を定義\n",
        "    def __init__(self):\n",
        "        super(Net, self).__init__()\n",
        "\n",
        "        # 畳み込み層とプーリング層の要素定義\n",
        "        self.conv1 = nn.Conv2d(3, 6, 5)  # (入力, 出力, 畳み込みカーネル（5*5）)\n",
        "        self.pool = nn.MaxPool2d(2, 2)  # (2*2)のプーリングカーネル\n",
        "        self.conv2 = nn.Conv2d(6, 16, 5)\n",
        "        # 全結合層の要素定義\n",
        "        # self.fc1 = nn.Linear(61, 120)  # (入力, 出力)\n",
        "        self.fc1 = nn.Linear(16 * 47 * 47, 120)  # (入力, 出力)\n",
        "        self.fc2 = nn.Linear(120, 84)\n",
        "        self.fc3 = nn.Linear(84, 2)  # クラス数が2なので最終出力数は2\n",
        "\n",
        "    # この順番でNNを構成\n",
        "    def forward(self, x):\n",
        "        # print(x.shape)\n",
        "        x = self.pool(F.relu(self.conv1(x)))  # conv1->relu->pool\n",
        "        # print(x.shape)\n",
        "        x = self.pool(F.relu(self.conv2(x)))  # conv2->relu->pool\n",
        "        #print(x.shape)\n",
        "        x = x.view(-1, 16 * 47 * 47)  # データサイズの変更\n",
        "        # print(x.shape)\n",
        "        x = F.relu(self.fc1(x))  # fc1->relu\n",
        "        x = F.relu(self.fc2(x))  # fc2->relu\n",
        "        x = self.fc3(x)\n",
        "        return F.log_softmax(x, dim=0)"
      ]
    },
    {
      "cell_type": "code",
      "execution_count": null,
      "metadata": {
        "colab": {
          "base_uri": "https://localhost:8080/",
          "height": 206
        },
        "id": "6UCC5tMO8dQJ",
        "outputId": "3ff417f4-c167-4aae-e2c5-7d68049b1ecd"
      },
      "outputs": [
        {
          "output_type": "execute_result",
          "data": {
            "text/plain": [
              "       Unnamed: 0   id                                                img  \\\n",
              "1266         1266  646  /content/drive/MyDrive/10_study/CNN/input/home...   \n",
              "13766       13766  287  /content/drive/MyDrive/10_study/CNN/input/artw...   \n",
              "19697       19697   97  /content/drive/MyDrive/10_study/CNN/input/home...   \n",
              "7237         7237  458  /content/drive/MyDrive/10_study/CNN/input/artw...   \n",
              "10963       10963  387  /content/drive/MyDrive/10_study/CNN/input/artw...   \n",
              "\n",
              "       legend  \n",
              "1266        1  \n",
              "13766       0  \n",
              "19697       0  \n",
              "7237        0  \n",
              "10963       0  "
            ],
            "text/html": [
              "\n",
              "  <div id=\"df-1ceb162a-cbe0-4349-bbf3-dfb05f90186d\">\n",
              "    <div class=\"colab-df-container\">\n",
              "      <div>\n",
              "<style scoped>\n",
              "    .dataframe tbody tr th:only-of-type {\n",
              "        vertical-align: middle;\n",
              "    }\n",
              "\n",
              "    .dataframe tbody tr th {\n",
              "        vertical-align: top;\n",
              "    }\n",
              "\n",
              "    .dataframe thead th {\n",
              "        text-align: right;\n",
              "    }\n",
              "</style>\n",
              "<table border=\"1\" class=\"dataframe\">\n",
              "  <thead>\n",
              "    <tr style=\"text-align: right;\">\n",
              "      <th></th>\n",
              "      <th>Unnamed: 0</th>\n",
              "      <th>id</th>\n",
              "      <th>img</th>\n",
              "      <th>legend</th>\n",
              "    </tr>\n",
              "  </thead>\n",
              "  <tbody>\n",
              "    <tr>\n",
              "      <th>1266</th>\n",
              "      <td>1266</td>\n",
              "      <td>646</td>\n",
              "      <td>/content/drive/MyDrive/10_study/CNN/input/home...</td>\n",
              "      <td>1</td>\n",
              "    </tr>\n",
              "    <tr>\n",
              "      <th>13766</th>\n",
              "      <td>13766</td>\n",
              "      <td>287</td>\n",
              "      <td>/content/drive/MyDrive/10_study/CNN/input/artw...</td>\n",
              "      <td>0</td>\n",
              "    </tr>\n",
              "    <tr>\n",
              "      <th>19697</th>\n",
              "      <td>19697</td>\n",
              "      <td>97</td>\n",
              "      <td>/content/drive/MyDrive/10_study/CNN/input/home...</td>\n",
              "      <td>0</td>\n",
              "    </tr>\n",
              "    <tr>\n",
              "      <th>7237</th>\n",
              "      <td>7237</td>\n",
              "      <td>458</td>\n",
              "      <td>/content/drive/MyDrive/10_study/CNN/input/artw...</td>\n",
              "      <td>0</td>\n",
              "    </tr>\n",
              "    <tr>\n",
              "      <th>10963</th>\n",
              "      <td>10963</td>\n",
              "      <td>387</td>\n",
              "      <td>/content/drive/MyDrive/10_study/CNN/input/artw...</td>\n",
              "      <td>0</td>\n",
              "    </tr>\n",
              "  </tbody>\n",
              "</table>\n",
              "</div>\n",
              "      <button class=\"colab-df-convert\" onclick=\"convertToInteractive('df-1ceb162a-cbe0-4349-bbf3-dfb05f90186d')\"\n",
              "              title=\"Convert this dataframe to an interactive table.\"\n",
              "              style=\"display:none;\">\n",
              "        \n",
              "  <svg xmlns=\"http://www.w3.org/2000/svg\" height=\"24px\"viewBox=\"0 0 24 24\"\n",
              "       width=\"24px\">\n",
              "    <path d=\"M0 0h24v24H0V0z\" fill=\"none\"/>\n",
              "    <path d=\"M18.56 5.44l.94 2.06.94-2.06 2.06-.94-2.06-.94-.94-2.06-.94 2.06-2.06.94zm-11 1L8.5 8.5l.94-2.06 2.06-.94-2.06-.94L8.5 2.5l-.94 2.06-2.06.94zm10 10l.94 2.06.94-2.06 2.06-.94-2.06-.94-.94-2.06-.94 2.06-2.06.94z\"/><path d=\"M17.41 7.96l-1.37-1.37c-.4-.4-.92-.59-1.43-.59-.52 0-1.04.2-1.43.59L10.3 9.45l-7.72 7.72c-.78.78-.78 2.05 0 2.83L4 21.41c.39.39.9.59 1.41.59.51 0 1.02-.2 1.41-.59l7.78-7.78 2.81-2.81c.8-.78.8-2.07 0-2.86zM5.41 20L4 18.59l7.72-7.72 1.47 1.35L5.41 20z\"/>\n",
              "  </svg>\n",
              "      </button>\n",
              "      \n",
              "  <style>\n",
              "    .colab-df-container {\n",
              "      display:flex;\n",
              "      flex-wrap:wrap;\n",
              "      gap: 12px;\n",
              "    }\n",
              "\n",
              "    .colab-df-convert {\n",
              "      background-color: #E8F0FE;\n",
              "      border: none;\n",
              "      border-radius: 50%;\n",
              "      cursor: pointer;\n",
              "      display: none;\n",
              "      fill: #1967D2;\n",
              "      height: 32px;\n",
              "      padding: 0 0 0 0;\n",
              "      width: 32px;\n",
              "    }\n",
              "\n",
              "    .colab-df-convert:hover {\n",
              "      background-color: #E2EBFA;\n",
              "      box-shadow: 0px 1px 2px rgba(60, 64, 67, 0.3), 0px 1px 3px 1px rgba(60, 64, 67, 0.15);\n",
              "      fill: #174EA6;\n",
              "    }\n",
              "\n",
              "    [theme=dark] .colab-df-convert {\n",
              "      background-color: #3B4455;\n",
              "      fill: #D2E3FC;\n",
              "    }\n",
              "\n",
              "    [theme=dark] .colab-df-convert:hover {\n",
              "      background-color: #434B5C;\n",
              "      box-shadow: 0px 1px 3px 1px rgba(0, 0, 0, 0.15);\n",
              "      filter: drop-shadow(0px 1px 2px rgba(0, 0, 0, 0.3));\n",
              "      fill: #FFFFFF;\n",
              "    }\n",
              "  </style>\n",
              "\n",
              "      <script>\n",
              "        const buttonEl =\n",
              "          document.querySelector('#df-1ceb162a-cbe0-4349-bbf3-dfb05f90186d button.colab-df-convert');\n",
              "        buttonEl.style.display =\n",
              "          google.colab.kernel.accessAllowed ? 'block' : 'none';\n",
              "\n",
              "        async function convertToInteractive(key) {\n",
              "          const element = document.querySelector('#df-1ceb162a-cbe0-4349-bbf3-dfb05f90186d');\n",
              "          const dataTable =\n",
              "            await google.colab.kernel.invokeFunction('convertToInteractive',\n",
              "                                                     [key], {});\n",
              "          if (!dataTable) return;\n",
              "\n",
              "          const docLinkHtml = 'Like what you see? Visit the ' +\n",
              "            '<a target=\"_blank\" href=https://colab.research.google.com/notebooks/data_table.ipynb>data table notebook</a>'\n",
              "            + ' to learn more about interactive tables.';\n",
              "          element.innerHTML = '';\n",
              "          dataTable['output_type'] = 'display_data';\n",
              "          await google.colab.output.renderOutput(dataTable, element);\n",
              "          const docLink = document.createElement('div');\n",
              "          docLink.innerHTML = docLinkHtml;\n",
              "          element.appendChild(docLink);\n",
              "        }\n",
              "      </script>\n",
              "    </div>\n",
              "  </div>\n",
              "  "
            ]
          },
          "metadata": {},
          "execution_count": 4
        }
      ],
      "source": [
        "df = pd.read_csv(\"/content/drive/MyDrive/10_study/CNN/data.csv\")\n",
        "\n",
        "train_data, test_data = train_test_split(df,train_size=0.25, test_size=0.05, stratify=df[\"legend\"], random_state=30)\n",
        "test_data.head()"
      ]
    },
    {
      "cell_type": "code",
      "execution_count": null,
      "metadata": {
        "id": "Nk0l9Q1J8dBJ"
      },
      "outputs": [],
      "source": [
        "#画像の変形処理\n",
        "transform = transforms.Compose(\n",
        "    [transforms.ToTensor(),\n",
        "     transforms.Normalize((0.485, 0.456, 0.406), (0.229, 0.224, 0.225))])"
      ]
    },
    {
      "cell_type": "code",
      "execution_count": null,
      "metadata": {
        "id": "6uOxNv-CAEib"
      },
      "outputs": [],
      "source": [
        "train_labels = torch.Tensor(train_data[\"legend\"].values)\n",
        "test_labels =  torch.Tensor(test_data[\"legend\"].values)"
      ]
    },
    {
      "cell_type": "code",
      "execution_count": null,
      "metadata": {
        "id": "sE5fF9PIAESG"
      },
      "outputs": [],
      "source": [
        "train_images = []\n",
        "test_images = []\n",
        "\n",
        "for i, file in enumerate(test_data[\"img\"]):\n",
        "        image = Image.open(file)\n",
        "        image = transform(image)\n",
        "        test_images.append(image)"
      ]
    },
    {
      "cell_type": "code",
      "execution_count": null,
      "metadata": {
        "id": "un6f0u6WejXt"
      },
      "outputs": [],
      "source": [
        "for i, file in enumerate(train_data[\"img\"]):\n",
        "        image = Image.open(file)\n",
        "        image = transform(image)\n",
        "        train_images.append(image)"
      ]
    },
    {
      "cell_type": "code",
      "execution_count": null,
      "metadata": {
        "id": "pui2NqsGFZBl"
      },
      "outputs": [],
      "source": [
        "train_features = torch.stack(train_images)\n",
        "train =  data_utils.TensorDataset(train_features, train_labels)\n",
        "test_features = torch.stack(test_images)\n",
        "test =  data_utils.TensorDataset(test_features, test_labels)\n",
        "\n",
        "trainloader = data_utils.DataLoader(train, batch_size=32, shuffle=True, num_workers=2)\n",
        "testloader = data_utils.DataLoader(test, batch_size=32, shuffle=True, num_workers=2)"
      ]
    },
    {
      "cell_type": "code",
      "execution_count": null,
      "metadata": {
        "id": "ptYBgMReFdsc"
      },
      "outputs": [],
      "source": [
        "#モデル定義\n",
        "model = Net()\n",
        "#GPU設定\n",
        "device = 'cuda:0' \n",
        "model.to(device)\n",
        "#Loss関数の指定\n",
        "criterion = nn.CrossEntropyLoss()\n",
        "#Optimizerの指定\n",
        "optimizer = optim.SGD(model.parameters(), lr=0.001, momentum=0.9)"
      ]
    },
    {
      "cell_type": "code",
      "execution_count": null,
      "metadata": {
        "id": "yb7PxELzFerL",
        "colab": {
          "base_uri": "https://localhost:8080/"
        },
        "outputId": "989b96c9-7ced-442b-f9a4-44d33ab9a57f"
      },
      "outputs": [
        {
          "output_type": "stream",
          "name": "stdout",
          "text": [
            "[1,   225] loss: 0.063\n",
            "[26,   225] loss: 0.009\n",
            "[51,   225] loss: 0.003\n",
            "[76,   225] loss: 0.001\n",
            "Finished Training\n",
            "[100,   225] loss: 0.000\n",
            "Finished Training\n"
          ]
        }
      ],
      "source": [
        "#トレーニング\n",
        "#エポック数の指定\n",
        "for epoch in range(100):  # loop over the dataset multiple times\n",
        "\n",
        "    #データ全てのトータルロス\n",
        "    running_loss = 0.0 \n",
        "\n",
        "\n",
        "    for i, data in enumerate(trainloader):\n",
        "\n",
        "        #入力データ・ラベルに分割\n",
        "        # get the inputs\n",
        "        inputs, labels = data\n",
        "\n",
        "        # Variableに変形\n",
        "        # wrap them in Variable\n",
        "        inputs, labels = Variable(inputs), Variable(labels)\n",
        "        # device設定\n",
        "        inputs, labels = inputs.to(device), labels.to(device)\n",
        "\n",
        "        # optimizerの初期化\n",
        "        # zero the parameter gradients\n",
        "        optimizer.zero_grad()\n",
        "\n",
        "        #一連の流れ\n",
        "        # forward + backward + optimize\n",
        "        outputs = model(inputs)\n",
        "\n",
        "        #ここでラベルデータに対するCross-Entropyがとられる\n",
        "        loss = criterion(outputs, labels.type(torch.long))\n",
        "        loss.backward()\n",
        "        optimizer.step()\n",
        "\n",
        "        # ロスの表示\n",
        "        # print statistics\n",
        "        running_loss += loss.data.item()\n",
        "    if epoch % 25 == 0:    # print every 2000 mini-batches\n",
        "        print('[%d, %5d] loss: %.3f' %\n",
        "                (epoch + 1, i + 1, running_loss / 2000))\n",
        "\n",
        "\n",
        "print('Finished Training')\n",
        "print('[%d, %5d] loss: %.3f' %\n",
        "          (epoch + 1, i + 1, running_loss / 2000))\n",
        "print('Finished Training')"
      ]
    },
    {
      "cell_type": "code",
      "source": [
        "# モデルを保存しておく\n",
        "save_path = \"/content/drive/MyDrive/10_study/CNN/output/predict_model.pth\"\n",
        "torch.save(model.state_dict(), save_path) # 保存"
      ],
      "metadata": {
        "id": "NJ91Twh-XZ7t"
      },
      "execution_count": null,
      "outputs": []
    },
    {
      "cell_type": "code",
      "execution_count": null,
      "metadata": {
        "id": "oXODLazhFzeo",
        "colab": {
          "base_uri": "https://localhost:8080/"
        },
        "outputId": "897c1918-7fce-4564-acdd-960d541f4ce7"
      },
      "outputs": [
        {
          "output_type": "stream",
          "name": "stdout",
          "text": [
            "Accuracy: 90.32 %\n"
          ]
        }
      ],
      "source": [
        "# Accuracyの導出\n",
        "correct = 0\n",
        "total = 0\n",
        "with torch.no_grad():\n",
        "    for (images, labels) in testloader:\n",
        "        images, labels = images.to(device), labels.to(device)\n",
        "        outputs = model(images)\n",
        "        _, predicted = torch.max(outputs.data, 1)\n",
        "        total += labels.size(0)\n",
        "        correct += (predicted == labels).sum().item()\n",
        "print('Accuracy: {:.2f} %'.format(100 * float(correct/total)))"
      ]
    }
  ],
  "metadata": {
    "colab": {
      "collapsed_sections": [],
      "name": "CNN_practice_model.ipynb",
      "provenance": [],
      "authorship_tag": "ABX9TyNt2gClPm+o9Zc0Hj9e/ODE",
      "include_colab_link": true
    },
    "gpuClass": "standard",
    "kernelspec": {
      "display_name": "Python 3",
      "name": "python3"
    },
    "language_info": {
      "name": "python"
    },
    "accelerator": "GPU"
  },
  "nbformat": 4,
  "nbformat_minor": 0
}