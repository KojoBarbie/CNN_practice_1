{
  "cells": [
    {
      "cell_type": "markdown",
      "metadata": {
        "id": "view-in-github",
        "colab_type": "text"
      },
      "source": [
        "<a href=\"https://colab.research.google.com/github/KojoBarbie/CNN_practice_1/blob/main/CNN_practice_img.ipynb\" target=\"_parent\"><img src=\"https://colab.research.google.com/assets/colab-badge.svg\" alt=\"Open In Colab\"/></a>"
      ]
    },
    {
      "cell_type": "markdown",
      "metadata": {
        "id": "-2TkYyEBlMAQ"
      },
      "source": [
        "# CNNを用いて画像分類\n",
        "pokeapiを使用して集めたポケモンの写真をもとに、そのポケモンが伝説のポケモンであるかどうかを判定する画像分類を作る。\n",
        "このノートブックでは、画像の収集を行う。\n",
        "\n",
        "## import\n",
        "必要なモジュールなどのインポート"
      ]
    },
    {
      "cell_type": "code",
      "execution_count": null,
      "metadata": {
        "colab": {
          "base_uri": "https://localhost:8080/"
        },
        "id": "uiWwgOHdlPIk",
        "outputId": "fee1a7e0-743d-4f43-fbd7-6e49432c7856"
      },
      "outputs": [
        {
          "output_type": "stream",
          "name": "stdout",
          "text": [
            "Mounted at /content/drive\n"
          ]
        }
      ],
      "source": [
        "# Googleドライブをマウント(Colabの場合)\n",
        "from google.colab import drive\n",
        "drive.mount('/content/drive')\n",
        "\n",
        "# 定番\n",
        "import os\n",
        "import time\n",
        "import pandas as pd\n",
        "import numpy as np\n",
        "import matplotlib.pyplot as plt\n",
        "\n",
        "# 画像収集の時に使う\n",
        "import pprint\n",
        "import urllib.error\n",
        "import urllib.request\n",
        "\n",
        "# 水増しの時に使う\n",
        "import cv2\n",
        "import glob\n",
        "\n",
        "# CNNの時に使う\n",
        "import torch\n",
        "from torch.autograd import Variable #自動微分用\n",
        "import torch.nn as nn #ネットワーク構築用\n",
        "import torch.optim as optim #最適化関数\n",
        "import torch.nn.functional as F #ネットワーク用の様々な関数\n",
        "import torch.utils.data as data_utils#データセット読み込み関連\n",
        "import torchvision #画像関連\n",
        "from torchvision import datasets, models, transforms #画像用データセット諸々\n",
        "from torchvision.transforms import ToTensor\n",
        "from sklearn.model_selection import train_test_split\n",
        "from PIL import Image"
      ]
    },
    {
      "cell_type": "markdown",
      "metadata": {
        "id": "9N1lImjBkyvB"
      },
      "source": [
        "## 画像を収集する\n",
        "pokeapiから画像のリンクを開き、ダウンロードする"
      ]
    },
    {
      "cell_type": "code",
      "execution_count": null,
      "metadata": {
        "id": "9PO52om1SILe"
      },
      "outputs": [],
      "source": [
        "# 画像をURLからダウンロードする関数\n",
        "# 参考: https://note.nkmk.me/python-download-web-images/\n",
        "def download_file(url, file_name):\n",
        "    try:\n",
        "        with urllib.request.urlopen(url) as web_file, open(file_name, 'wb') as local_file:\n",
        "            local_file.write(web_file.read())\n",
        "    except urllib.error.URLError as e:\n",
        "        print(e)"
      ]
    },
    {
      "cell_type": "code",
      "execution_count": null,
      "metadata": {
        "id": "3whXFuTPTkuz"
      },
      "outputs": [],
      "source": [
        "# pokeapiを利用して画像を収集する\n",
        "def collect_png(rootpath, rooturl):\n",
        "  for i in range(1, 899):\n",
        "    url = rooturl + str(i)+ \".png\"\n",
        "    path = rootpath + str(i).zfill(3) + \".png\" \n",
        "    download_file(url, path)\n",
        "    if i % 100 == 0:\n",
        "      print(str(i) + \"まで終わった\")"
      ]
    },
    {
      "cell_type": "code",
      "execution_count": null,
      "metadata": {
        "colab": {
          "base_uri": "https://localhost:8080/"
        },
        "id": "6XQZagepT0r9",
        "outputId": "f8a158c2-fa5e-40d6-f650-4a36bfd316ac"
      },
      "outputs": [
        {
          "name": "stdout",
          "output_type": "stream",
          "text": [
            "100まで終わった\n",
            "200まで終わった\n",
            "300まで終わった\n",
            "400まで終わった\n",
            "500まで終わった\n",
            "600まで終わった\n",
            "700まで終わった\n",
            "800まで終わった\n"
          ]
        }
      ],
      "source": [
        "# ひとまずartworkだけダウンロードしてみる\n",
        "rootpath = \"/content/drive/MyDrive/10_study/CNN/data/artwork/\"\n",
        "rooturl = \"https://raw.githubusercontent.com/PokeAPI/sprites/master/sprites/pokemon/other/official-artwork/\"\n",
        "\n",
        "collect_png(rootpath, rooturl)"
      ]
    },
    {
      "cell_type": "code",
      "execution_count": null,
      "metadata": {
        "colab": {
          "base_uri": "https://localhost:8080/"
        },
        "id": "TMEz7OPtUbyd",
        "outputId": "2805a642-19ac-487a-8d84-d5a91f9e4e98"
      },
      "outputs": [
        {
          "name": "stdout",
          "output_type": "stream",
          "text": [
            "100まで終わった\n",
            "200まで終わった\n",
            "300まで終わった\n",
            "400まで終わった\n",
            "500まで終わった\n",
            "600まで終わった\n",
            "700まで終わった\n",
            "HTTP Error 404: Not Found\n",
            "800まで終わった\n"
          ]
        }
      ],
      "source": [
        "# homeもダウンロード\n",
        "rootpath = \"/content/drive/MyDrive/10_study/CNN/data/home/\"\n",
        "rooturl = \"https://raw.githubusercontent.com/PokeAPI/sprites/master/sprites/pokemon/other/home/\"\n",
        "\n",
        "collect_png(rootpath, rooturl)"
      ]
    },
    {
      "cell_type": "markdown",
      "metadata": {
        "id": "8E_NFIhjk2XP"
      },
      "source": [
        "## 画像の水増し\n",
        "約1800枚の画像を入手できたが、伝説のポケモン（UBなども入れて79匹）のデータが少し足りないので、水増しする。  \n",
        "色調転換・左右反転・左右90度回転の4つを組み合わせて、1枚の写真から16枚の写真に水増しした。"
      ]
    },
    {
      "cell_type": "code",
      "execution_count": null,
      "metadata": {
        "id": "k6C8XSKlQJna"
      },
      "outputs": [],
      "source": [
        "def show_img(img):\n",
        "  show_img = cv2.cvtColor(img,cv2.COLOR_BGR2RGB) # 表示のためBGRをRGBに変換する。\n",
        "  plt.imshow(show_img) # matplot.libを用いて読み込んだ画像を表示します。"
      ]
    },
    {
      "cell_type": "code",
      "execution_count": null,
      "metadata": {
        "id": "kpwsRJO2k5UA"
      },
      "outputs": [],
      "source": [
        "# 参考コードそのまま\n",
        "def scratch_image(img, flip=True, cvt=True, cvt2=True, bit=True, warp=True):\n",
        "    # 水増しの手法を配列にまとめる\n",
        "    methods = [flip, cvt, bit, warp]\n",
        "\n",
        "    # flip は画像の左右反転\n",
        "    # cvt  は色調変換\n",
        "    # cvt2 は色調変換\n",
        "    # bit  は色反転\n",
        "    # warp は90度回転\n",
        "\n",
        "    images = [img]\n",
        "    # 手法に用いる関数\n",
        "    scratch = np.array([\n",
        "\n",
        "        #画像の左右反転のlambda関数\n",
        "        lambda x: cv2.flip(x,1),\n",
        "\n",
        "        #色調変換のlambda関数\n",
        "        lambda x: cv2.cvtColor(x, cv2.COLOR_BGR2RGB),\n",
        "\n",
        "        #色反転のlambda関数\n",
        "        lambda x: cv2.bitwise_not(x),\n",
        "\n",
        "        #90度回転するlambda関数\n",
        "        lambda x: cv2.warpAffine(x, cv2.getRotationMatrix2D\n",
        "        (tuple(np.array([img.shape[1], img.shape[0]]) / 2), 90, 1.0), img.shape[::-1][1:3])\n",
        "\n",
        "    ])\n",
        "\n",
        "\n",
        "    # 関数と画像を引数に、加工した画像を元と合わせて水増しする関数\n",
        "    doubling_images = lambda f, imag: (imag + [f(i) for i in imag])\n",
        "\n",
        "    # doubling_imagesを用いてmethodsがTrueの関数で水増ししてください\n",
        "    for func in scratch[methods]:\n",
        "        images = doubling_images(func,images)\n",
        "\n",
        "    return images"
      ]
    },
    {
      "cell_type": "code",
      "execution_count": null,
      "metadata": {
        "id": "_5WcEaD2jW6N"
      },
      "outputs": [],
      "source": [
        "def copy_img(dir, file_name, output_path):\n",
        "  img_path = \"/content/drive/MyDrive/10_study/CNN/data/\" +  dir + \"/\" + file_name\n",
        "  # 画像の読み込み\n",
        "  img = cv2.imread(img_path)\n",
        "  #画像のトリミング\n",
        "  center = (img.shape[0]//2, img.shape[1]//2)\n",
        "  img = img[center[0] - np.min(center) : center[0] + np.min(center), center[1] - np.min(center) : center[1] + np.min(center)]\n",
        "  #画像のリサイズ\n",
        "  img = cv2.resize(img, (200,200))        \n",
        "  # 画像の水増し\n",
        "  scratch_images = scratch_image(img)\n",
        "  # 拡張子なしファイル名を取得\n",
        "  name = os.path.splitext(os.path.basename(img_path))[0]\n",
        "\n",
        "  # output\n",
        "  num = 0\n",
        "  for im in scratch_images:\n",
        "    # まず保存先のディレクトリを指定、番号を付けて保存\n",
        "    cv2.imwrite(output_path + \"/\" + dir + \"_\" + name + \"_\" + str(num).zfill(2) + \".png\" ,im)\n",
        "    num += 1"
      ]
    },
    {
      "cell_type": "code",
      "execution_count": null,
      "metadata": {
        "id": "P-oMHVRakBZ3"
      },
      "outputs": [],
      "source": [
        "def makedata():\n",
        "  count = 0\n",
        "  dir_list = [\"artwork\", \"home\"]\n",
        "  for i in range(1, 301):\n",
        "    for dir in dir_list:\n",
        "      try:\n",
        "        copy_img(dir, str(i).zfill(3) + \".png\", \"/content/drive/MyDrive/10_study/CNN/input\")\n",
        "      except:\n",
        "        print(\"error at \" + str(i))\n",
        "    count += 1\n",
        "    time.sleep(2)\n",
        "    if count % 50 == 0:\n",
        "      print(\"finish by \" + str(count))\n",
        "      time.sleep(10)"
      ]
    },
    {
      "cell_type": "code",
      "execution_count": null,
      "metadata": {
        "id": "OP2zhs6NmOmU"
      },
      "outputs": [],
      "source": [
        "makedata()"
      ]
    },
    {
      "cell_type": "markdown",
      "metadata": {
        "id": "I3oHMbR5lCIf"
      },
      "source": [
        "## CSVファイルの作成\n",
        "水増しした写真をもとに、写真ファイルのパスと伝説のポケモンか判別するラベルをつけたデータフレームを作成し、それをcsvで保存する。"
      ]
    },
    {
      "cell_type": "code",
      "execution_count": null,
      "metadata": {
        "colab": {
          "base_uri": "https://localhost:8080/"
        },
        "id": "5z8c1uPodgLn",
        "outputId": "8a47953c-8938-4b3f-ec81-b18bf34f9ab4"
      },
      "outputs": [
        {
          "output_type": "execute_result",
          "data": {
            "text/plain": [
              "79"
            ]
          },
          "metadata": {},
          "execution_count": 3
        }
      ],
      "source": [
        "# memo\n",
        "legends = [144, 145, 146, 150, 151, # 第1世代\n",
        "           243, 244, 245, 249, 250, 251, # 第2世代\n",
        "           377, 378, 379, 380, 381, 382, 383, 384, 385, # 第3世代\n",
        "           480, 481, 482, 483, 484, 485, 486, 487, 488, 494, # 第4世代\n",
        "           638, 639, 640, 641, 642, 643, 644, 645, 646, 647, 649, # 第5世代\n",
        "           716, 717, 718, 719, 721, # 第6世代\n",
        "           772, 773, 785, 786, 787, 788, 789, 790, 791, 792, # 第7世代（伝説）\n",
        "           794, 795, 796, 797, 798, 799, 800, 801, 802, 803, 804, 805, 806, 807, 808, 809, # 第7世代（UB, 幻のポケモン）\n",
        "           888, 889, 894, 895, 896, 897, 898] # 第8世代\n",
        "\n",
        "len(legends)"
      ]
    },
    {
      "cell_type": "code",
      "execution_count": null,
      "metadata": {
        "colab": {
          "base_uri": "https://localhost:8080/",
          "height": 206
        },
        "id": "Qw1WdyxrLXT0",
        "outputId": "1e16a6a2-2662-4164-b2e7-cc6af1c6326f"
      },
      "outputs": [
        {
          "data": {
            "text/html": [
              "\n",
              "  <div id=\"df-3c7b8b18-b6e1-41ad-a3d1-c1faf106ff90\">\n",
              "    <div class=\"colab-df-container\">\n",
              "      <div>\n",
              "<style scoped>\n",
              "    .dataframe tbody tr th:only-of-type {\n",
              "        vertical-align: middle;\n",
              "    }\n",
              "\n",
              "    .dataframe tbody tr th {\n",
              "        vertical-align: top;\n",
              "    }\n",
              "\n",
              "    .dataframe thead th {\n",
              "        text-align: right;\n",
              "    }\n",
              "</style>\n",
              "<table border=\"1\" class=\"dataframe\">\n",
              "  <thead>\n",
              "    <tr style=\"text-align: right;\">\n",
              "      <th></th>\n",
              "      <th>id</th>\n",
              "      <th>img</th>\n",
              "      <th>legend</th>\n",
              "    </tr>\n",
              "  </thead>\n",
              "  <tbody>\n",
              "    <tr>\n",
              "      <th>0</th>\n",
              "      <td>669</td>\n",
              "      <td>/content/drive/MyDrive/10_study/CNN/input/home...</td>\n",
              "      <td>0</td>\n",
              "    </tr>\n",
              "    <tr>\n",
              "      <th>1</th>\n",
              "      <td>669</td>\n",
              "      <td>/content/drive/MyDrive/10_study/CNN/input/home...</td>\n",
              "      <td>0</td>\n",
              "    </tr>\n",
              "    <tr>\n",
              "      <th>2</th>\n",
              "      <td>669</td>\n",
              "      <td>/content/drive/MyDrive/10_study/CNN/input/home...</td>\n",
              "      <td>0</td>\n",
              "    </tr>\n",
              "    <tr>\n",
              "      <th>3</th>\n",
              "      <td>669</td>\n",
              "      <td>/content/drive/MyDrive/10_study/CNN/input/home...</td>\n",
              "      <td>0</td>\n",
              "    </tr>\n",
              "    <tr>\n",
              "      <th>4</th>\n",
              "      <td>669</td>\n",
              "      <td>/content/drive/MyDrive/10_study/CNN/input/home...</td>\n",
              "      <td>0</td>\n",
              "    </tr>\n",
              "  </tbody>\n",
              "</table>\n",
              "</div>\n",
              "      <button class=\"colab-df-convert\" onclick=\"convertToInteractive('df-3c7b8b18-b6e1-41ad-a3d1-c1faf106ff90')\"\n",
              "              title=\"Convert this dataframe to an interactive table.\"\n",
              "              style=\"display:none;\">\n",
              "        \n",
              "  <svg xmlns=\"http://www.w3.org/2000/svg\" height=\"24px\"viewBox=\"0 0 24 24\"\n",
              "       width=\"24px\">\n",
              "    <path d=\"M0 0h24v24H0V0z\" fill=\"none\"/>\n",
              "    <path d=\"M18.56 5.44l.94 2.06.94-2.06 2.06-.94-2.06-.94-.94-2.06-.94 2.06-2.06.94zm-11 1L8.5 8.5l.94-2.06 2.06-.94-2.06-.94L8.5 2.5l-.94 2.06-2.06.94zm10 10l.94 2.06.94-2.06 2.06-.94-2.06-.94-.94-2.06-.94 2.06-2.06.94z\"/><path d=\"M17.41 7.96l-1.37-1.37c-.4-.4-.92-.59-1.43-.59-.52 0-1.04.2-1.43.59L10.3 9.45l-7.72 7.72c-.78.78-.78 2.05 0 2.83L4 21.41c.39.39.9.59 1.41.59.51 0 1.02-.2 1.41-.59l7.78-7.78 2.81-2.81c.8-.78.8-2.07 0-2.86zM5.41 20L4 18.59l7.72-7.72 1.47 1.35L5.41 20z\"/>\n",
              "  </svg>\n",
              "      </button>\n",
              "      \n",
              "  <style>\n",
              "    .colab-df-container {\n",
              "      display:flex;\n",
              "      flex-wrap:wrap;\n",
              "      gap: 12px;\n",
              "    }\n",
              "\n",
              "    .colab-df-convert {\n",
              "      background-color: #E8F0FE;\n",
              "      border: none;\n",
              "      border-radius: 50%;\n",
              "      cursor: pointer;\n",
              "      display: none;\n",
              "      fill: #1967D2;\n",
              "      height: 32px;\n",
              "      padding: 0 0 0 0;\n",
              "      width: 32px;\n",
              "    }\n",
              "\n",
              "    .colab-df-convert:hover {\n",
              "      background-color: #E2EBFA;\n",
              "      box-shadow: 0px 1px 2px rgba(60, 64, 67, 0.3), 0px 1px 3px 1px rgba(60, 64, 67, 0.15);\n",
              "      fill: #174EA6;\n",
              "    }\n",
              "\n",
              "    [theme=dark] .colab-df-convert {\n",
              "      background-color: #3B4455;\n",
              "      fill: #D2E3FC;\n",
              "    }\n",
              "\n",
              "    [theme=dark] .colab-df-convert:hover {\n",
              "      background-color: #434B5C;\n",
              "      box-shadow: 0px 1px 3px 1px rgba(0, 0, 0, 0.15);\n",
              "      filter: drop-shadow(0px 1px 2px rgba(0, 0, 0, 0.3));\n",
              "      fill: #FFFFFF;\n",
              "    }\n",
              "  </style>\n",
              "\n",
              "      <script>\n",
              "        const buttonEl =\n",
              "          document.querySelector('#df-3c7b8b18-b6e1-41ad-a3d1-c1faf106ff90 button.colab-df-convert');\n",
              "        buttonEl.style.display =\n",
              "          google.colab.kernel.accessAllowed ? 'block' : 'none';\n",
              "\n",
              "        async function convertToInteractive(key) {\n",
              "          const element = document.querySelector('#df-3c7b8b18-b6e1-41ad-a3d1-c1faf106ff90');\n",
              "          const dataTable =\n",
              "            await google.colab.kernel.invokeFunction('convertToInteractive',\n",
              "                                                     [key], {});\n",
              "          if (!dataTable) return;\n",
              "\n",
              "          const docLinkHtml = 'Like what you see? Visit the ' +\n",
              "            '<a target=\"_blank\" href=https://colab.research.google.com/notebooks/data_table.ipynb>data table notebook</a>'\n",
              "            + ' to learn more about interactive tables.';\n",
              "          element.innerHTML = '';\n",
              "          dataTable['output_type'] = 'display_data';\n",
              "          await google.colab.output.renderOutput(dataTable, element);\n",
              "          const docLink = document.createElement('div');\n",
              "          docLink.innerHTML = docLinkHtml;\n",
              "          element.appendChild(docLink);\n",
              "        }\n",
              "      </script>\n",
              "    </div>\n",
              "  </div>\n",
              "  "
            ],
            "text/plain": [
              "    id                                                img legend\n",
              "0  669  /content/drive/MyDrive/10_study/CNN/input/home...      0\n",
              "1  669  /content/drive/MyDrive/10_study/CNN/input/home...      0\n",
              "2  669  /content/drive/MyDrive/10_study/CNN/input/home...      0\n",
              "3  669  /content/drive/MyDrive/10_study/CNN/input/home...      0\n",
              "4  669  /content/drive/MyDrive/10_study/CNN/input/home...      0"
            ]
          },
          "execution_count": 14,
          "metadata": {},
          "output_type": "execute_result"
        }
      ],
      "source": [
        "# 空のdataframeを作成\n",
        "df = pd.DataFrame(index = [], columns = [\"id\", \"img\", \"legend\"])\n",
        "\n",
        "db_path = \"/content/drive/MyDrive/10_study/CNN/input\"\n",
        "file_list = glob.glob(db_path + \"/*.png\")\n",
        "\n",
        "for img_file in file_list:\n",
        "  name = os.path.splitext(os.path.basename(img_file))[0]\n",
        "  name = int(name.split(\"_\")[1])\n",
        "  is_legend = 0\n",
        "  if name in legends:\n",
        "    is_legend = 1\n",
        "  record = pd.Series([name, img_file, is_legend], index=df.columns)\n",
        "  df = df.append(record, ignore_index=True)\n",
        "\n",
        "df.head()"
      ]
    },
    {
      "cell_type": "code",
      "execution_count": null,
      "metadata": {
        "id": "Nn37SdXigBMH"
      },
      "outputs": [],
      "source": [
        "# dfをcsvファイルに保存\n",
        "df.to_csv(\"/content/drive/MyDrive/10_study/CNN/data.csv\")"
      ]
    },
    {
      "cell_type": "markdown",
      "metadata": {
        "id": "FKSTqrp9z4Le"
      },
      "source": [
        "## モデルを作るぞ\n",
        "CNNでモデルを作って画像分類を行う。"
      ]
    },
    {
      "cell_type": "code",
      "execution_count": null,
      "metadata": {
        "id": "gtPSz3VL8dYj"
      },
      "outputs": [],
      "source": [
        "class Net(nn.Module):\n",
        "    # NNの各構成要素を定義\n",
        "    def __init__(self):\n",
        "        super(Net, self).__init__()\n",
        "\n",
        "        # 畳み込み層とプーリング層の要素定義\n",
        "        self.conv1 = nn.Conv2d(3, 6, 5)  # (入力, 出力, 畳み込みカーネル（5*5）)\n",
        "        self.pool = nn.MaxPool2d(2, 2)  # (2*2)のプーリングカーネル\n",
        "        self.conv2 = nn.Conv2d(6, 16, 5)\n",
        "        # 全結合層の要素定義\n",
        "        # self.fc1 = nn.Linear(61, 120)  # (入力, 出力)\n",
        "        self.fc1 = nn.Linear(16 * 47 * 47, 120)  # (入力, 出力)\n",
        "        self.fc2 = nn.Linear(120, 84)\n",
        "        self.fc3 = nn.Linear(84, 2)  # クラス数が2なので最終出力数は2\n",
        "\n",
        "    # この順番でNNを構成\n",
        "    def forward(self, x):\n",
        "        # print(x.shape)\n",
        "        x = self.pool(F.relu(self.conv1(x)))  # conv1->relu->pool\n",
        "        # print(x.shape)\n",
        "        x = self.pool(F.relu(self.conv2(x)))  # conv2->relu->pool\n",
        "        #print(x.shape)\n",
        "        x = x.view(-1, 16 * 47 * 47)  # データサイズの変更\n",
        "        # print(x.shape)\n",
        "        x = F.relu(self.fc1(x))  # fc1->relu\n",
        "        x = F.relu(self.fc2(x))  # fc2->relu\n",
        "        x = self.fc3(x)\n",
        "        return F.log_softmax(x, dim=0)"
      ]
    },
    {
      "cell_type": "code",
      "execution_count": null,
      "metadata": {
        "colab": {
          "base_uri": "https://localhost:8080/",
          "height": 206
        },
        "id": "6UCC5tMO8dQJ",
        "outputId": "fb95c239-6300-4925-ce90-4e7d5c20f2f9"
      },
      "outputs": [
        {
          "output_type": "execute_result",
          "data": {
            "text/plain": [
              "       Unnamed: 0   id                                                img  \\\n",
              "1266         1266  646  /content/drive/MyDrive/10_study/CNN/input/home...   \n",
              "13766       13766  287  /content/drive/MyDrive/10_study/CNN/input/artw...   \n",
              "19697       19697   97  /content/drive/MyDrive/10_study/CNN/input/home...   \n",
              "7237         7237  458  /content/drive/MyDrive/10_study/CNN/input/artw...   \n",
              "10963       10963  387  /content/drive/MyDrive/10_study/CNN/input/artw...   \n",
              "\n",
              "       legend  \n",
              "1266        1  \n",
              "13766       0  \n",
              "19697       0  \n",
              "7237        0  \n",
              "10963       0  "
            ],
            "text/html": [
              "\n",
              "  <div id=\"df-70a63ed7-0981-40e1-b65e-9a209fc0978b\">\n",
              "    <div class=\"colab-df-container\">\n",
              "      <div>\n",
              "<style scoped>\n",
              "    .dataframe tbody tr th:only-of-type {\n",
              "        vertical-align: middle;\n",
              "    }\n",
              "\n",
              "    .dataframe tbody tr th {\n",
              "        vertical-align: top;\n",
              "    }\n",
              "\n",
              "    .dataframe thead th {\n",
              "        text-align: right;\n",
              "    }\n",
              "</style>\n",
              "<table border=\"1\" class=\"dataframe\">\n",
              "  <thead>\n",
              "    <tr style=\"text-align: right;\">\n",
              "      <th></th>\n",
              "      <th>Unnamed: 0</th>\n",
              "      <th>id</th>\n",
              "      <th>img</th>\n",
              "      <th>legend</th>\n",
              "    </tr>\n",
              "  </thead>\n",
              "  <tbody>\n",
              "    <tr>\n",
              "      <th>1266</th>\n",
              "      <td>1266</td>\n",
              "      <td>646</td>\n",
              "      <td>/content/drive/MyDrive/10_study/CNN/input/home...</td>\n",
              "      <td>1</td>\n",
              "    </tr>\n",
              "    <tr>\n",
              "      <th>13766</th>\n",
              "      <td>13766</td>\n",
              "      <td>287</td>\n",
              "      <td>/content/drive/MyDrive/10_study/CNN/input/artw...</td>\n",
              "      <td>0</td>\n",
              "    </tr>\n",
              "    <tr>\n",
              "      <th>19697</th>\n",
              "      <td>19697</td>\n",
              "      <td>97</td>\n",
              "      <td>/content/drive/MyDrive/10_study/CNN/input/home...</td>\n",
              "      <td>0</td>\n",
              "    </tr>\n",
              "    <tr>\n",
              "      <th>7237</th>\n",
              "      <td>7237</td>\n",
              "      <td>458</td>\n",
              "      <td>/content/drive/MyDrive/10_study/CNN/input/artw...</td>\n",
              "      <td>0</td>\n",
              "    </tr>\n",
              "    <tr>\n",
              "      <th>10963</th>\n",
              "      <td>10963</td>\n",
              "      <td>387</td>\n",
              "      <td>/content/drive/MyDrive/10_study/CNN/input/artw...</td>\n",
              "      <td>0</td>\n",
              "    </tr>\n",
              "  </tbody>\n",
              "</table>\n",
              "</div>\n",
              "      <button class=\"colab-df-convert\" onclick=\"convertToInteractive('df-70a63ed7-0981-40e1-b65e-9a209fc0978b')\"\n",
              "              title=\"Convert this dataframe to an interactive table.\"\n",
              "              style=\"display:none;\">\n",
              "        \n",
              "  <svg xmlns=\"http://www.w3.org/2000/svg\" height=\"24px\"viewBox=\"0 0 24 24\"\n",
              "       width=\"24px\">\n",
              "    <path d=\"M0 0h24v24H0V0z\" fill=\"none\"/>\n",
              "    <path d=\"M18.56 5.44l.94 2.06.94-2.06 2.06-.94-2.06-.94-.94-2.06-.94 2.06-2.06.94zm-11 1L8.5 8.5l.94-2.06 2.06-.94-2.06-.94L8.5 2.5l-.94 2.06-2.06.94zm10 10l.94 2.06.94-2.06 2.06-.94-2.06-.94-.94-2.06-.94 2.06-2.06.94z\"/><path d=\"M17.41 7.96l-1.37-1.37c-.4-.4-.92-.59-1.43-.59-.52 0-1.04.2-1.43.59L10.3 9.45l-7.72 7.72c-.78.78-.78 2.05 0 2.83L4 21.41c.39.39.9.59 1.41.59.51 0 1.02-.2 1.41-.59l7.78-7.78 2.81-2.81c.8-.78.8-2.07 0-2.86zM5.41 20L4 18.59l7.72-7.72 1.47 1.35L5.41 20z\"/>\n",
              "  </svg>\n",
              "      </button>\n",
              "      \n",
              "  <style>\n",
              "    .colab-df-container {\n",
              "      display:flex;\n",
              "      flex-wrap:wrap;\n",
              "      gap: 12px;\n",
              "    }\n",
              "\n",
              "    .colab-df-convert {\n",
              "      background-color: #E8F0FE;\n",
              "      border: none;\n",
              "      border-radius: 50%;\n",
              "      cursor: pointer;\n",
              "      display: none;\n",
              "      fill: #1967D2;\n",
              "      height: 32px;\n",
              "      padding: 0 0 0 0;\n",
              "      width: 32px;\n",
              "    }\n",
              "\n",
              "    .colab-df-convert:hover {\n",
              "      background-color: #E2EBFA;\n",
              "      box-shadow: 0px 1px 2px rgba(60, 64, 67, 0.3), 0px 1px 3px 1px rgba(60, 64, 67, 0.15);\n",
              "      fill: #174EA6;\n",
              "    }\n",
              "\n",
              "    [theme=dark] .colab-df-convert {\n",
              "      background-color: #3B4455;\n",
              "      fill: #D2E3FC;\n",
              "    }\n",
              "\n",
              "    [theme=dark] .colab-df-convert:hover {\n",
              "      background-color: #434B5C;\n",
              "      box-shadow: 0px 1px 3px 1px rgba(0, 0, 0, 0.15);\n",
              "      filter: drop-shadow(0px 1px 2px rgba(0, 0, 0, 0.3));\n",
              "      fill: #FFFFFF;\n",
              "    }\n",
              "  </style>\n",
              "\n",
              "      <script>\n",
              "        const buttonEl =\n",
              "          document.querySelector('#df-70a63ed7-0981-40e1-b65e-9a209fc0978b button.colab-df-convert');\n",
              "        buttonEl.style.display =\n",
              "          google.colab.kernel.accessAllowed ? 'block' : 'none';\n",
              "\n",
              "        async function convertToInteractive(key) {\n",
              "          const element = document.querySelector('#df-70a63ed7-0981-40e1-b65e-9a209fc0978b');\n",
              "          const dataTable =\n",
              "            await google.colab.kernel.invokeFunction('convertToInteractive',\n",
              "                                                     [key], {});\n",
              "          if (!dataTable) return;\n",
              "\n",
              "          const docLinkHtml = 'Like what you see? Visit the ' +\n",
              "            '<a target=\"_blank\" href=https://colab.research.google.com/notebooks/data_table.ipynb>data table notebook</a>'\n",
              "            + ' to learn more about interactive tables.';\n",
              "          element.innerHTML = '';\n",
              "          dataTable['output_type'] = 'display_data';\n",
              "          await google.colab.output.renderOutput(dataTable, element);\n",
              "          const docLink = document.createElement('div');\n",
              "          docLink.innerHTML = docLinkHtml;\n",
              "          element.appendChild(docLink);\n",
              "        }\n",
              "      </script>\n",
              "    </div>\n",
              "  </div>\n",
              "  "
            ]
          },
          "metadata": {},
          "execution_count": 3
        }
      ],
      "source": [
        "df = pd.read_csv(\"/content/drive/MyDrive/10_study/CNN/data.csv\")\n",
        "\n",
        "train_data, test_data = train_test_split(df,train_size=0.25, test_size=0.05, stratify=df[\"legend\"], random_state=30)\n",
        "test_data.head()"
      ]
    },
    {
      "cell_type": "code",
      "execution_count": null,
      "metadata": {
        "id": "Nk0l9Q1J8dBJ"
      },
      "outputs": [],
      "source": [
        "#画像の変形処理\n",
        "transform = transforms.Compose(\n",
        "    [transforms.ToTensor(),\n",
        "     transforms.Normalize((0.485, 0.456, 0.406), (0.229, 0.224, 0.225))])"
      ]
    },
    {
      "cell_type": "code",
      "execution_count": null,
      "metadata": {
        "id": "6uOxNv-CAEib"
      },
      "outputs": [],
      "source": [
        "train_labels = torch.Tensor(train_data[\"legend\"].values)\n",
        "test_labels =  torch.Tensor(test_data[\"legend\"].values)"
      ]
    },
    {
      "cell_type": "code",
      "execution_count": null,
      "metadata": {
        "id": "sE5fF9PIAESG"
      },
      "outputs": [],
      "source": [
        "train_images = []\n",
        "test_images = []\n",
        "\n",
        "for i, file in enumerate(test_data[\"img\"]):\n",
        "        image = Image.open(file)\n",
        "        image = transform(image)\n",
        "        test_images.append(image)"
      ]
    },
    {
      "cell_type": "code",
      "execution_count": null,
      "metadata": {
        "id": "un6f0u6WejXt"
      },
      "outputs": [],
      "source": [
        "for i, file in enumerate(train_data[\"img\"]):\n",
        "        image = Image.open(file)\n",
        "        image = transform(image)\n",
        "        train_images.append(image)"
      ]
    },
    {
      "cell_type": "code",
      "execution_count": null,
      "metadata": {
        "id": "pui2NqsGFZBl"
      },
      "outputs": [],
      "source": [
        "train_features = torch.stack(train_images)\n",
        "train =  data_utils.TensorDataset(train_features, train_labels)\n",
        "test_features = torch.stack(test_images)\n",
        "test =  data_utils.TensorDataset(test_features, test_labels)\n",
        "\n",
        "trainloader = data_utils.DataLoader(train, batch_size=32, shuffle=True, num_workers=2)\n",
        "testloader = data_utils.DataLoader(test, batch_size=32, shuffle=True, num_workers=2)"
      ]
    },
    {
      "cell_type": "code",
      "execution_count": null,
      "metadata": {
        "id": "ptYBgMReFdsc"
      },
      "outputs": [],
      "source": [
        "#モデル定義\n",
        "model = Net()\n",
        "#GPU設定\n",
        "device = 'cuda:0' \n",
        "model.to(device)\n",
        "#Loss関数の指定\n",
        "criterion = nn.CrossEntropyLoss()\n",
        "#Optimizerの指定\n",
        "optimizer = optim.SGD(model.parameters(), lr=0.001, momentum=0.9)"
      ]
    },
    {
      "cell_type": "code",
      "execution_count": null,
      "metadata": {
        "id": "yb7PxELzFerL",
        "colab": {
          "base_uri": "https://localhost:8080/"
        },
        "outputId": "6e7c185b-4f95-48ff-c16f-22927d8d1cf9"
      },
      "outputs": [
        {
          "output_type": "stream",
          "name": "stdout",
          "text": [
            "[1,   225] loss: 0.078\n",
            "[26,   225] loss: 0.033\n",
            "[51,   225] loss: 0.008\n",
            "[76,   225] loss: 0.002\n",
            "Finished Training\n",
            "[100,   225] loss: 0.001\n",
            "Finished Training\n"
          ]
        }
      ],
      "source": [
        "#トレーニング\n",
        "#エポック数の指定\n",
        "for epoch in range(100):  # loop over the dataset multiple times\n",
        "\n",
        "    #データ全てのトータルロス\n",
        "    running_loss = 0.0 \n",
        "\n",
        "\n",
        "    for i, data in enumerate(trainloader):\n",
        "\n",
        "        #入力データ・ラベルに分割\n",
        "        # get the inputs\n",
        "        inputs, labels = data\n",
        "\n",
        "        # Variableに変形\n",
        "        # wrap them in Variable\n",
        "        inputs, labels = Variable(inputs), Variable(labels)\n",
        "        # device設定\n",
        "        inputs, labels = inputs.to(device), labels.to(device)\n",
        "\n",
        "        # optimizerの初期化\n",
        "        # zero the parameter gradients\n",
        "        optimizer.zero_grad()\n",
        "\n",
        "        #一連の流れ\n",
        "        # forward + backward + optimize\n",
        "        outputs = model(inputs)\n",
        "\n",
        "        #ここでラベルデータに対するCross-Entropyがとられる\n",
        "        loss = criterion(outputs, labels.type(torch.long))\n",
        "        loss.backward()\n",
        "        optimizer.step()\n",
        "\n",
        "        # ロスの表示\n",
        "        # print statistics\n",
        "        running_loss += loss.data.item()\n",
        "    if epoch % 25 == 0:    # print every 2000 mini-batches\n",
        "        print('[%d, %5d] loss: %.3f' %\n",
        "                (epoch + 1, i + 1, running_loss / 2000))\n",
        "\n",
        "\n",
        "print('Finished Training')\n",
        "print('[%d, %5d] loss: %.3f' %\n",
        "          (epoch + 1, i + 1, running_loss / 2000))\n",
        "print('Finished Training')"
      ]
    },
    {
      "cell_type": "code",
      "source": [
        "# モデルを保存しておく\n",
        "save_path = \"/content/drive/MyDrive/10_study/CNN/output/predict_model2.pth\"\n",
        "torch.save(model.state_dict(), save_path) # 保存"
      ],
      "metadata": {
        "id": "NJ91Twh-XZ7t"
      },
      "execution_count": null,
      "outputs": []
    },
    {
      "cell_type": "markdown",
      "source": [
        "## 性能評価\n",
        "学習済みモデルに対して、性能評価を行う。"
      ],
      "metadata": {
        "id": "9a0fb1fVvder"
      }
    },
    {
      "cell_type": "code",
      "source": [
        "# 新しいモデル\n",
        "model2 = Net()\n",
        "#GPU設定\n",
        "device = 'cuda:0' \n",
        "model2.to(device)\n",
        "\n",
        "# 保存したモデルパラメータの読み込み\n",
        "model_params = torch.load(\"/content/drive/MyDrive/10_study/CNN/output/predict_model2.pth\")\n",
        "model2.load_state_dict(model_params)"
      ],
      "metadata": {
        "colab": {
          "base_uri": "https://localhost:8080/"
        },
        "id": "YS7bF5LuepfU",
        "outputId": "b038c59d-f134-4b67-9b75-fbe8d607a80f"
      },
      "execution_count": null,
      "outputs": [
        {
          "output_type": "execute_result",
          "data": {
            "text/plain": [
              "<All keys matched successfully>"
            ]
          },
          "metadata": {},
          "execution_count": 5
        }
      ]
    },
    {
      "cell_type": "code",
      "execution_count": null,
      "metadata": {
        "id": "oXODLazhFzeo"
      },
      "outputs": [],
      "source": [
        "# Accuracyの導出\n",
        "correct = 0\n",
        "total = 0\n",
        "with torch.no_grad():\n",
        "    for (images, labels) in testloader:\n",
        "        images, labels = images.to(device), labels.to(device)\n",
        "        outputs = model2(images)\n",
        "        _, predicted = torch.max(outputs.data, 1)\n",
        "        total += labels.size(0)\n",
        "        correct += (predicted == labels).sum().item()\n",
        "print('Accuracy: {:.2f} %'.format(100 * float(correct/total)))"
      ]
    },
    {
      "cell_type": "code",
      "source": [
        "val_img = Image.open(df.iloc[1049][\"img\"])\n",
        "plt.imshow(val_img)\n",
        "inputs = transforms.ToTensor()(val_img)\n",
        "inputs = inputs.unsqueeze(0).to(device)\n",
        "\n",
        "model2.eval()\n",
        "outputs = model2(inputs)\n",
        "pe, predicted = torch.max(outputs.data, 1)\n",
        "\n",
        "print(predicted)\n",
        "print(pe[0] * 100)\n",
        "print(outputs)\n"
      ],
      "metadata": {
        "colab": {
          "base_uri": "https://localhost:8080/",
          "height": 323
        },
        "id": "RGiBzMjOfMRz",
        "outputId": "963320a8-ba42-407b-abe2-d9e70456b8ce"
      },
      "execution_count": null,
      "outputs": [
        {
          "output_type": "stream",
          "name": "stdout",
          "text": [
            "tensor([0], device='cuda:0')\n",
            "tensor(0., device='cuda:0')\n",
            "tensor([[0., 0.]], device='cuda:0', grad_fn=<LogSoftmaxBackward0>)\n"
          ]
        },
        {
          "output_type": "display_data",
          "data": {
            "text/plain": [
              "<Figure size 432x288 with 1 Axes>"
            ],
            "image/png": "[encoded data removed]"
          },
          "metadata": {
            "needs_background": "light"
          }
        }
      ]
    },
    {
      "cell_type": "code",
      "source": [
        "val_img = Image.open(df.iloc[20800][\"img\"])\n",
        "plt.imshow(val_img)\n",
        "inputs = transforms.ToTensor()(val_img)\n",
        "inputs = inputs.unsqueeze(0).to(device)\n",
        "\n",
        "model2.eval()\n",
        "outputs = model2(inputs)\n",
        "batch_probs = F.softmax(outputs, dim=1)\n",
        "batch_probs, batch_indices = batch_probs.sort(dim=1, descending=True)\n",
        "\n",
        "print(batch_probs, batch_indices)\n",
        "\n",
        "class_names = [\"伝説\", \"伝説でない\"]\n",
        "for probs, indices in zip(batch_probs, batch_indices):\n",
        "    for k in range(2):\n",
        "        print(f\"Top-{k + 1} {class_names[indices[k]]} {probs[k]:.2%}\")\n"
      ],
      "metadata": {
        "colab": {
          "base_uri": "https://localhost:8080/",
          "height": 323
        },
        "id": "5vYRnNE6kRVi",
        "outputId": "3807f54f-2e72-4c09-8898-3b1c5bdc28c4"
      },
      "execution_count": null,
      "outputs": [
        {
          "output_type": "stream",
          "name": "stdout",
          "text": [
            "tensor([[0.5000, 0.5000]], device='cuda:0', grad_fn=<SortBackward0>) tensor([[1, 0]], device='cuda:0')\n",
            "Top-1 伝説でない 50.00%\n",
            "Top-2 伝説 50.00%\n"
          ]
        },
        {
          "output_type": "display_data",
          "data": {
            "text/plain": [
              "<Figure size 432x288 with 1 Axes>"
            ],
            "image/png": "[encoded data removed]"
          },
          "metadata": {
            "needs_background": "light"
          }
        }
      ]
    }
  ],
  "metadata": {
    "colab": {
      "collapsed_sections": [],
      "name": "CNN_practice_img.ipynb",
      "provenance": [],
      "authorship_tag": "ABX9TyP9pkd97ZweWgey8u0KmfVI",
      "include_colab_link": true
    },
    "gpuClass": "standard",
    "kernelspec": {
      "display_name": "Python 3",
      "name": "python3"
    },
    "language_info": {
      "name": "python"
    },
    "accelerator": "GPU"
  },
  "nbformat": 4,
  "nbformat_minor": 0
}